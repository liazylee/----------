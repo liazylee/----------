{
 "cells": [
  {
   "cell_type": "code",
   "execution_count": 1,
   "metadata": {
    "collapsed": true
   },
   "outputs": [],
   "source": [
    "#开始爬虫训练\n",
    "#网上例子"
   ]
  },
  {
   "cell_type": "code",
   "execution_count": null,
   "metadata": {
    "collapsed": true
   },
   "outputs": [],
   "source": [
    "thenewboston\n",
    "httpd://thrnreboton.com/"
   ]
  },
  {
   "cell_type": "code",
   "execution_count": 8,
   "metadata": {
    "collapsed": false
   },
   "outputs": [],
   "source": [
    "import os\n",
    "#each wbsite you  crawl is separate project(folider)\n",
    "def create_project_dir(directory):\n",
    "    if not os.path.exists(directory):\n",
    "        print ('creating project' + directory)\n",
    "        os.makedirs(directory)\n",
    "create_project_dir('thenewboston') "
   ]
  },
  {
   "cell_type": "code",
   "execution_count": 14,
   "metadata": {
    "collapsed": false
   },
   "outputs": [],
   "source": [
    "import os\n",
    "#each wbsite you  crawl is separate project(folider)\n",
    "def create_project_dir(directory):\n",
    "    if not os.path.exists(directory):\n",
    "        print ('creating project' + directory)\n",
    "        os.makedirs(directory)\n",
    "# creat queue and crawlde files (if nor created)\n",
    "def create_data_files(project_name,base_url):\n",
    "    queue = project_name + '/queue.txt'\n",
    "    crawled = project_name + '/crawled.txt'\n",
    "    if not os.path.isfile(queue):\n",
    "        write_file(queue,base_url)\n",
    "    if not os.path.isfile(crawled):\n",
    "        write_file(crawled,'')\n",
    "#creat a new file\n",
    "def write_file(path,data):\n",
    "    f = open(path,'w')\n",
    "    f.write(data)\n",
    "    f.close()\n",
    "create_data_files('thenewboston','httpd://thrnreboton.com/')    "
   ]
  },
  {
   "cell_type": "code",
   "execution_count": null,
   "metadata": {
    "collapsed": true
   },
   "outputs": [],
   "source": [
    "import os\n",
    "#each wbsite you  crawl is separate project(folider)\n",
    "def create_project_dir(directory):\n",
    "    if not os.path.exists(directory):\n",
    "        print ('creating project' + directory)\n",
    "        os.makedirs(directory)\n",
    "# creat queue and crawlde files (if nor created)\n",
    "def create_data_files(project_name,base_url):\n",
    "    queue = project_name + '/queue.txt'\n",
    "    crawled = project_name + '/crawled.txt'\n",
    "    if not os.path.isfile(queue):\n",
    "        write_file(queue,base_url)\n",
    "    if not os.path.isfile(crawled):\n",
    "        write_file(crawled,'')\n",
    "#creat a new file\n",
    "def write_file(path,data):\n",
    "    f = open(path,'w')\n",
    "    f.write(data)\n",
    "    f.close()\n",
    "    \n",
    "#add data onto an existing file\n",
    "def append_to_file(path,data):\n",
    "    with open(path,'a') as file:\n",
    "        file.write(data +'\\n')\n",
    "#delete the contents of a file\n",
    "def delete_file_contents(path):\n",
    "    with open(path,'w'):\n",
    "        pass\n",
    "\n",
    "#read a file and convert eath line to items\n",
    "def file_to_set(file_name):\n",
    "    results = set()\n",
    "    with open(file_name 'rt') as f:\n",
    "        for line in f:\n",
    "            results .add(line.replace('\\n',''))\n",
    "        return results\n",
    "#iterate through a set , each  item be a new line in the file\n",
    "def set_to_file(links, file):\n",
    "    delete_file_contents(file)\n",
    "    for link in sorted(links):\n",
    "        append_to_file(file,link)"
   ]
  },
  {
   "cell_type": "code",
   "execution_count": null,
   "metadata": {
    "collapsed": true
   },
   "outputs": [],
   "source": [
    "#link .py\n",
    "from heml.parser import HTMLParser\n",
    "from urillb import parser\n",
    "class LinkFinder(HTMLParser):\n",
    "    def error(self,message):\n",
    "        pass\n",
    "    def __init__(self):\n",
    "        super().__init()\n",
    "    def headle_starttag(self,tag,attrs):\n",
    "        if tag == 'a':\n",
    "            for (attribute ,value) in attrs:\n",
    "                if attribute == 'href':\n",
    "                    \n",
    "        print(tag)\n",
    "finder = ;inkFinder()\n",
    "finder.feed()"
   ]
  },
  {
   "cell_type": "code",
   "execution_count": null,
   "metadata": {
    "collapsed": true
   },
   "outputs": [],
   "source": []
  },
  {
   "cell_type": "code",
   "execution_count": null,
   "metadata": {
    "collapsed": true
   },
   "outputs": [],
   "source": []
  },
  {
   "cell_type": "code",
   "execution_count": null,
   "metadata": {
    "collapsed": true
   },
   "outputs": [],
   "source": []
  },
  {
   "cell_type": "code",
   "execution_count": null,
   "metadata": {
    "collapsed": true
   },
   "outputs": [],
   "source": []
  },
  {
   "cell_type": "code",
   "execution_count": null,
   "metadata": {
    "collapsed": true
   },
   "outputs": [],
   "source": []
  },
  {
   "cell_type": "code",
   "execution_count": null,
   "metadata": {
    "collapsed": true
   },
   "outputs": [],
   "source": []
  },
  {
   "cell_type": "code",
   "execution_count": null,
   "metadata": {
    "collapsed": true
   },
   "outputs": [],
   "source": []
  },
  {
   "cell_type": "code",
   "execution_count": null,
   "metadata": {
    "collapsed": true
   },
   "outputs": [],
   "source": []
  },
  {
   "cell_type": "code",
   "execution_count": null,
   "metadata": {
    "collapsed": true
   },
   "outputs": [],
   "source": []
  },
  {
   "cell_type": "code",
   "execution_count": null,
   "metadata": {
    "collapsed": true
   },
   "outputs": [],
   "source": []
  },
  {
   "cell_type": "code",
   "execution_count": null,
   "metadata": {
    "collapsed": true
   },
   "outputs": [],
   "source": []
  },
  {
   "cell_type": "code",
   "execution_count": null,
   "metadata": {
    "collapsed": true
   },
   "outputs": [],
   "source": []
  },
  {
   "cell_type": "code",
   "execution_count": null,
   "metadata": {
    "collapsed": true
   },
   "outputs": [],
   "source": []
  },
  {
   "cell_type": "code",
   "execution_count": null,
   "metadata": {
    "collapsed": true
   },
   "outputs": [],
   "source": []
  }
 ],
 "metadata": {
  "kernelspec": {
   "display_name": "Python 2",
   "language": "python",
   "name": "python2"
  },
  "language_info": {
   "codemirror_mode": {
    "name": "ipython",
    "version": 2
   },
   "file_extension": ".py",
   "mimetype": "text/x-python",
   "name": "python",
   "nbconvert_exporter": "python",
   "pygments_lexer": "ipython2",
   "version": "2.7.12"
  }
 },
 "nbformat": 4,
 "nbformat_minor": 1
}
