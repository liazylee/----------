{
 "cells": [
  {
   "cell_type": "code",
   "execution_count": 6,
   "metadata": {
    "collapsed": false
   },
   "outputs": [
    {
     "name": "stdout",
     "output_type": "stream",
     "text": [
      "yes\n",
      "shutting down\n"
     ]
    }
   ],
   "source": [
    "def shut_down(s):\n",
    "    if s == 'yes':\n",
    "        return 'shutting down'\n",
    "    elif s == 'no':\n",
    "        return 'shuted abosort'\n",
    "    else:\n",
    "        return 'sorry'\n",
    "s = shut_down(raw_input())\n",
    "print s"
   ]
  },
  {
   "cell_type": "code",
   "execution_count": 16,
   "metadata": {
    "collapsed": false
   },
   "outputs": [
    {
     "name": "stdout",
     "output_type": "stream",
     "text": [
      "adult\n"
     ]
    }
   ],
   "source": [
    "age = 100\n",
    "if age >= 8 and age <= 17:\n",
    "    print 'teennager'\n",
    "elif age >= 18 and age <=100 :\n",
    "    print 'adult'\n",
    "else:\n",
    "    print 'kid'\n",
    "\n",
    "    "
   ]
  },
  {
   "cell_type": "code",
   "execution_count": 8,
   "metadata": {
    "collapsed": false
   },
   "outputs": [
    {
     "name": "stdout",
     "output_type": "stream",
     "text": [
      "['li', 'we', 'xc', 'fs']\n"
     ]
    }
   ],
   "source": [
    "l=['li','we','xc','fs']\n",
    "n = 4\n",
    "r = []\n",
    "for i in range(n):\n",
    "    r.append(l[i])\n",
    "print r"
   ]
  },
  {
   "cell_type": "code",
   "execution_count": 9,
   "metadata": {
    "collapsed": false
   },
   "outputs": [
    {
     "name": "stdout",
     "output_type": "stream",
     "text": [
      "[1]\n",
      "[1, 4]\n",
      "[1, 4, 9]\n",
      "[1, 4, 9, 16]\n",
      "[1, 4, 9, 16, 25]\n",
      "[1, 4, 9, 16, 25, 36]\n",
      "[1, 4, 9, 16, 25, 36, 49]\n",
      "[1, 4, 9, 16, 25, 36, 49, 64]\n",
      "[1, 4, 9, 16, 25, 36, 49, 64, 81]\n",
      "[1, 4, 9, 16, 25, 36, 49, 64, 81, 100]\n"
     ]
    }
   ],
   "source": [
    "l=[]\n",
    "for x in range(1,11):\n",
    "    l.append(x * x)\n",
    "    print l"
   ]
  },
  {
   "cell_type": "code",
   "execution_count": 1,
   "metadata": {
    "collapsed": false
   },
   "outputs": [
    {
     "name": "stdout",
     "output_type": "stream",
     "text": [
      "Untitled1.ipynb\n",
      "<generator object <genexpr> at 0x03D1CBE8>\n"
     ]
    }
   ],
   "source": [
    "import os\n",
    "[d for d in os.listdir('.')]\n",
    "print d\n",
    "g=(x * x for x in range (10))\n",
    "print g\n",
    "for n in g:\n",
    "    print n"
   ]
  },
  {
   "cell_type": "code",
   "execution_count": 1,
   "metadata": {
    "collapsed": false
   },
   "outputs": [
    {
     "name": "stdout",
     "output_type": "stream",
     "text": [
      "24\n",
      "1\n"
     ]
    }
   ],
   "source": [
    "def factorial(n):\n",
    "    return n>1 and n*factorial(n-1) or 1 \n",
    "print factorial(4)\n",
    "print factorial(1)"
   ]
  },
  {
   "cell_type": "code",
   "execution_count": 2,
   "metadata": {
    "collapsed": false
   },
   "outputs": [
    {
     "name": "stdout",
     "output_type": "stream",
     "text": [
      "24\n",
      "1\n"
     ]
    }
   ],
   "source": [
    "def factor(n):\n",
    "\treturn reduce(lambda x,y: x*y, range(1, n+1))\n",
    "print factorial(4)\n",
    "print factorial(1)\n"
   ]
  },
  {
   "cell_type": "code",
   "execution_count": 3,
   "metadata": {
    "collapsed": false
   },
   "outputs": [
    {
     "name": "stdout",
     "output_type": "stream",
     "text": [
      "False\n"
     ]
    }
   ],
   "source": [
    "def is_prime(x):\n",
    "    if x<=1:\n",
    "        return False\n",
    "    for i in range(2,x):\n",
    "        if x % i == 0:\n",
    "            return False\n",
    "        else:\n",
    "            return True\n",
    "print is_prime(0)"
   ]
  },
  {
   "cell_type": "code",
   "execution_count": null,
   "metadata": {
    "collapsed": true
   },
   "outputs": [],
   "source": []
  }
 ],
 "metadata": {
  "kernelspec": {
   "display_name": "Python 2",
   "language": "python",
   "name": "python2"
  },
  "language_info": {
   "codemirror_mode": {
    "name": "ipython",
    "version": 2
   },
   "file_extension": ".py",
   "mimetype": "text/x-python",
   "name": "python",
   "nbconvert_exporter": "python",
   "pygments_lexer": "ipython2",
   "version": "2.7.12"
  }
 },
 "nbformat": 4,
 "nbformat_minor": 1
}
