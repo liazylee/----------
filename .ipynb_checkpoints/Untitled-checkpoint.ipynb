{
 "cells": [
  {
   "cell_type": "code",
   "execution_count": 2,
   "metadata": {
    "collapsed": false
   },
   "outputs": [
    {
     "ename": "IOError",
     "evalue": "[Errno 2] No such file or directory: 'image.jpg'",
     "output_type": "error",
     "traceback": [
      "\u001b[0;31m---------------------------------------------------------------------------\u001b[0m",
      "\u001b[0;31mIOError\u001b[0m                                   Traceback (most recent call last)",
      "\u001b[0;32m<ipython-input-2-8db9df6faa0a>\u001b[0m in \u001b[0;36m<module>\u001b[0;34m()\u001b[0m\n\u001b[1;32m     11\u001b[0m     \u001b[0;32mreturn\u001b[0m \u001b[0;36m0\u001b[0m\u001b[0;34m\u001b[0m\u001b[0m\n\u001b[1;32m     12\u001b[0m \u001b[0;32mif\u001b[0m \u001b[0m__name__\u001b[0m \u001b[0;34m==\u001b[0m \u001b[0;34m'__main__'\u001b[0m\u001b[0;34m:\u001b[0m\u001b[0;34m\u001b[0m\u001b[0m\n\u001b[0;32m---> 13\u001b[0;31m     \u001b[0mimage\u001b[0m \u001b[0;34m=\u001b[0m \u001b[0mImage\u001b[0m\u001b[0;34m.\u001b[0m\u001b[0mopen\u001b[0m\u001b[0;34m(\u001b[0m\u001b[0;34m'image.jpg'\u001b[0m\u001b[0;34m)\u001b[0m\u001b[0;34m\u001b[0m\u001b[0m\n\u001b[0m\u001b[1;32m     14\u001b[0m \u001b[0madd_num\u001b[0m\u001b[0;34m(\u001b[0m\u001b[0mimage\u001b[0m\u001b[0;34m)\u001b[0m\u001b[0;34m\u001b[0m\u001b[0m\n",
      "\u001b[0;32me:\\python27\\lib\\site-packages\\PIL\\Image.pyc\u001b[0m in \u001b[0;36mopen\u001b[0;34m(fp, mode)\u001b[0m\n\u001b[1;32m   1950\u001b[0m         \u001b[0;32mimport\u001b[0m \u001b[0m__builtin__\u001b[0m\u001b[0;34m\u001b[0m\u001b[0m\n\u001b[1;32m   1951\u001b[0m         \u001b[0mfilename\u001b[0m \u001b[0;34m=\u001b[0m \u001b[0mfp\u001b[0m\u001b[0;34m\u001b[0m\u001b[0m\n\u001b[0;32m-> 1952\u001b[0;31m         \u001b[0mfp\u001b[0m \u001b[0;34m=\u001b[0m \u001b[0m__builtin__\u001b[0m\u001b[0;34m.\u001b[0m\u001b[0mopen\u001b[0m\u001b[0;34m(\u001b[0m\u001b[0mfp\u001b[0m\u001b[0;34m,\u001b[0m \u001b[0;34m\"rb\"\u001b[0m\u001b[0;34m)\u001b[0m\u001b[0;34m\u001b[0m\u001b[0m\n\u001b[0m\u001b[1;32m   1953\u001b[0m     \u001b[0;32melse\u001b[0m\u001b[0;34m:\u001b[0m\u001b[0;34m\u001b[0m\u001b[0m\n\u001b[1;32m   1954\u001b[0m         \u001b[0mfilename\u001b[0m \u001b[0;34m=\u001b[0m \u001b[0;34m\"\"\u001b[0m\u001b[0;34m\u001b[0m\u001b[0m\n",
      "\u001b[0;31mIOError\u001b[0m: [Errno 2] No such file or directory: 'image.jpg'"
     ]
    }
   ],
   "source": [
    "from PIL import Image, ImageDraw, ImageFont\n",
    "\n",
    "def add_num(img):\n",
    "    draw = ImageDraw.Draw(img)\n",
    "    myfont = ImageFont.truetype('C:/windows/fonts/Arial.ttf', size=40)\n",
    "    fillcolor = \"#ff0000\"\n",
    "    width, height = img.size\n",
    "    draw.text((width-40, 0), '99', font=myfont, fill=fillcolor)\n",
    "    img.save('result.jpg','jpeg')\n",
    "\n",
    "    return 0\n",
    "if __name__ == '__main__':\n",
    "    image = Image.open('image.jpg')\n",
    "add_num(image)\n"
   ]
  },
  {
   "cell_type": "code",
   "execution_count": 2,
   "metadata": {
    "collapsed": false
   },
   "outputs": [
    {
     "name": "stdout",
     "output_type": "stream",
     "text": [
      "10 to the power of 3 is 1000.\n"
     ]
    }
   ],
   "source": [
    "def power(base,exponent):  # Add your parameters here!\n",
    "    result = base**exponent\n",
    "    print \"%d to the power of %d is %d.\" % (base, exponent, result)\n",
    "\n",
    "power(10,3)  # Add your arguments here!"
   ]
  },
  {
   "cell_type": "code",
   "execution_count": 7,
   "metadata": {
    "collapsed": false
   },
   "outputs": [
    {
     "name": "stdout",
     "output_type": "stream",
     "text": [
      "egg\n",
      "egg\n",
      "egg\n"
     ]
    }
   ],
   "source": [
    "print \"\"\"egg\"\"\"\n",
    "print \"egg\"\n",
    "print 'egg'"
   ]
  },
  {
   "cell_type": "code",
   "execution_count": 9,
   "metadata": {
    "collapsed": false
   },
   "outputs": [
    {
     "name": "stdout",
     "output_type": "stream",
     "text": [
      "buzhidao shibushi \n"
     ]
    },
    {
     "data": {
      "text/plain": [
       "3"
      ]
     },
     "execution_count": 9,
     "metadata": {},
     "output_type": "execute_result"
    }
   ],
   "source": [
    "print\"\"\"buzhidao shibushi \"\"\"\n",
    "1+2"
   ]
  },
  {
   "cell_type": "code",
   "execution_count": null,
   "metadata": {
    "collapsed": true
   },
   "outputs": [],
   "source": []
  },
  {
   "cell_type": "code",
   "execution_count": null,
   "metadata": {
    "collapsed": true
   },
   "outputs": [],
   "source": []
  },
  {
   "cell_type": "code",
   "execution_count": null,
   "metadata": {
    "collapsed": true
   },
   "outputs": [],
   "source": []
  },
  {
   "cell_type": "code",
   "execution_count": null,
   "metadata": {
    "collapsed": true
   },
   "outputs": [],
   "source": []
  },
  {
   "cell_type": "code",
   "execution_count": null,
   "metadata": {
    "collapsed": true
   },
   "outputs": [],
   "source": []
  },
  {
   "cell_type": "markdown",
   "metadata": {
    "collapsed": true
   },
   "source": [
    "\n"
   ]
  },
  {
   "cell_type": "code",
   "execution_count": 1,
   "metadata": {
    "collapsed": false
   },
   "outputs": [
    {
     "name": "stdout",
     "output_type": "stream",
     "text": [
      "<__main__.Person instance at 0x045A2B20>\n"
     ]
    }
   ],
   "source": [
    "class Person:\n",
    "    pass\n",
    "p = Person()\n",
    "print p\n"
   ]
  },
  {
   "cell_type": "code",
   "execution_count": 1,
   "metadata": {
    "collapsed": false
   },
   "outputs": [
    {
     "name": "stdout",
     "output_type": "stream",
     "text": [
      "Hello ,how are you\n"
     ]
    }
   ],
   "source": [
    "class Person:\n",
    "    def sayHi(self):\n",
    "        print 'Hello ,how are you'\n",
    "p = Person()\n",
    "p.sayHi()"
   ]
  },
  {
   "cell_type": "code",
   "execution_count": 2,
   "metadata": {
    "collapsed": true
   },
   "outputs": [],
   "source": [
    "class Horse(object):\n",
    "    \"\"\"Horse represents a Horse\"\"\"\n",
    "    species = \"Equus ferus caballus\"\n",
    "    def __init__(self,color,weight,wild=False):\n",
    "        self.color = color\n",
    "        self.weight = weight\n",
    "        self.wild = wild\n",
    "    def __repr__(self):\n",
    "        return \"%s horse weighing %f and wild status is %b\" % (self.color,self.weight,self.wild)\n",
    "    def make_sound(self):\n",
    "        print \"neighhhh\" \n",
    "    def movement(self):\n",
    "        return \"walk\"\n"
   ]
  },
  {
   "cell_type": "code",
   "execution_count": 5,
   "metadata": {
    "collapsed": false
   },
   "outputs": [
    {
     "name": "stdout",
     "output_type": "stream",
     "text": [
      "8\n",
      "2222\n"
     ]
    },
    {
     "data": {
      "text/plain": [
       "False"
      ]
     },
     "execution_count": 5,
     "metadata": {},
     "output_type": "execute_result"
    }
   ],
   "source": [
    "def cube(number):\n",
    "    number = number ** 3\n",
    "    print number\n",
    "    return number\n",
    "    \n",
    "def by_three(number):\n",
    "    if number % 3 == 0:\n",
    "        return cube(number)\n",
    "    else:\n",
    "       \n",
    "        return False\n",
    "cube(2)\n",
    "by_three(2)"
   ]
  },
  {
   "cell_type": "code",
   "execution_count": 3,
   "metadata": {
    "collapsed": false
   },
   "outputs": [
    {
     "name": "stdout",
     "output_type": "stream",
     "text": [
      "['__doc__', '__name__', '__package__', 'acos', 'acosh', 'asin', 'asinh', 'atan', 'atan2', 'atanh', 'ceil', 'copysign', 'cos', 'cosh', 'degrees', 'e', 'erf', 'erfc', 'exp', 'expm1', 'fabs', 'factorial', 'floor', 'fmod', 'frexp', 'fsum', 'gamma', 'hypot', 'isinf', 'isnan', 'ldexp', 'lgamma', 'log', 'log10', 'log1p', 'modf', 'pi', 'pow', 'radians', 'sin', 'sinh', 'sqrt', 'tan', 'tanh', 'trunc']\n",
      "['__doc__', '__name__', '__package__', 'accept2dyear', 'altzone', 'asctime', 'clock', 'ctime', 'daylight', 'gmtime', 'localtime', 'mktime', 'sleep', 'strftime', 'strptime', 'struct_time', 'time', 'timezone', 'tzname']\n"
     ]
    },
    {
     "ename": "ImportError",
     "evalue": "No module named scarpy",
     "output_type": "error",
     "traceback": [
      "\u001b[0;31m---------------------------------------------------------------------------\u001b[0m",
      "\u001b[0;31mImportError\u001b[0m                               Traceback (most recent call last)",
      "\u001b[0;32m<ipython-input-3-78741e4f7ef8>\u001b[0m in \u001b[0;36m<module>\u001b[0;34m()\u001b[0m\n\u001b[1;32m      5\u001b[0m \u001b[0mallthing\u001b[0m \u001b[0;34m=\u001b[0m \u001b[0mdir\u001b[0m\u001b[0;34m(\u001b[0m\u001b[0mtime\u001b[0m\u001b[0;34m)\u001b[0m\u001b[0;34m\u001b[0m\u001b[0m\n\u001b[1;32m      6\u001b[0m \u001b[0;32mprint\u001b[0m \u001b[0mallthing\u001b[0m\u001b[0;34m\u001b[0m\u001b[0m\n\u001b[0;32m----> 7\u001b[0;31m \u001b[0;32mimport\u001b[0m \u001b[0mscarpy\u001b[0m\u001b[0;34m\u001b[0m\u001b[0m\n\u001b[0m\u001b[1;32m      8\u001b[0m \u001b[0mdic\u001b[0m \u001b[0;34m=\u001b[0m \u001b[0mdir\u001b[0m\u001b[0;34m(\u001b[0m\u001b[0mscarpy\u001b[0m\u001b[0;34m)\u001b[0m\u001b[0;34m\u001b[0m\u001b[0m\n\u001b[1;32m      9\u001b[0m \u001b[0;32mprint\u001b[0m \u001b[0mdic\u001b[0m\u001b[0;34m\u001b[0m\u001b[0m\n",
      "\u001b[0;31mImportError\u001b[0m: No module named scarpy"
     ]
    }
   ],
   "source": [
    "import math            # Imports the math module\n",
    "everything = dir(math) # Sets everything to a list of things from math\n",
    "print everything       # Prints 'em all!\n",
    "import time \n",
    "allthing = dir(time)\n",
    "print allthing\n",
    "import scarpy\n",
    "dic = dir(scarpy)\n",
    "print dic"
   ]
  },
  {
   "cell_type": "code",
   "execution_count": 8,
   "metadata": {
    "collapsed": false
   },
   "outputs": [
    {
     "name": "stdout",
     "output_type": "stream",
     "text": [
      "10\n",
      "-10\n",
      "10\n",
      "2\n"
     ]
    }
   ],
   "source": [
    "def biggest_number(*args):\n",
    "    print max(args)\n",
    "    return max(args)\n",
    "    \n",
    "def smallest_number(*args):\n",
    "    print min(args)\n",
    "    return min(args)\n",
    "\n",
    "def distance_from_zero(arg):\n",
    "    print abs(arg)\n",
    "    return abs(arg)\n",
    "\n",
    "\n",
    "biggest_number(-10, -5, 5, 10)\n",
    "smallest_number(-10, -5, 5, 10)\n",
    "distance_from_zero(-10)\n",
    "minnuber = min (2,3,4,56,7,8)\n",
    "print minnuber"
   ]
  },
  {
   "cell_type": "code",
   "execution_count": 6,
   "metadata": {
    "collapsed": false
   },
   "outputs": [
    {
     "name": "stdout",
     "output_type": "stream",
     "text": [
      "enter some thing90\n",
      "Nope\n"
     ]
    }
   ],
   "source": [
    "def distance_from_zero(n):\n",
    "    if type(n) == int or type(n) == float:\n",
    "        return abs(n)\n",
    "    else:\n",
    "        return \"Nope\"\n",
    "s = raw_input('enter some thing')\n",
    "print distance_from_zero(s)"
   ]
  },
  {
   "cell_type": "code",
   "execution_count": 3,
   "metadata": {
    "collapsed": false
   },
   "outputs": [
    {
     "name": "stdout",
     "output_type": "stream",
     "text": [
      "1955\n"
     ]
    }
   ],
   "source": [
    "def hotel_cost(nights):\n",
    "    return  140*nights\n",
    "def plane_ride_cost(city):\n",
    "    \n",
    "    if city == \"Charlotte\":\n",
    "        return 183\n",
    "    elif city ==\"Tampa\":\n",
    "        return 220\n",
    "    elif city ==\"Pittsburgh\":\n",
    "        return 222\n",
    "    elif city ==\"Los Angeles\":\n",
    "        return 475\n",
    "def rental_car_cost(days):\n",
    "    cost = 40*days\n",
    "    if days >=7:\n",
    "        cost -= 50\n",
    "    elif days >=3 and days<7:\n",
    "        cost -= 20\n",
    "    return cost    \n",
    "def trip_cost(city,days,spending_money):\n",
    "    return  rental_car_cost(days) + hotel_cost(days)+plane_ride_cost(city)+spending_money\n",
    "print trip_cost('Los Angeles',5,600)   \n",
    "    "
   ]
  },
  {
   "cell_type": "code",
   "execution_count": 1,
   "metadata": {
    "collapsed": false
   },
   "outputs": [
    {
     "name": "stdout",
     "output_type": "stream",
     "text": [
      "['aardvark', 'badger', 'cobra', 'duck', 'emu', 'fennec fox']\n"
     ]
    }
   ],
   "source": [
    "animals = [\"aardvark\", \"badger\", \"duck\", \"emu\", \"fennec fox\"]\n",
    "duck_index = animals.index('duck')   # Use index() to find \"duck\"\n",
    "\n",
    "# Your code here!\n",
    "animals.insert(duck_index,'cobra')\n",
    "\n",
    "\n",
    "print animals # Observe what prints after the insert operation"
   ]
  },
  {
   "cell_type": "code",
   "execution_count": 2,
   "metadata": {
    "collapsed": false
   },
   "outputs": [
    {
     "name": "stdout",
     "output_type": "stream",
     "text": [
      "[1, 4, 9, 16, 25]\n"
     ]
    }
   ],
   "source": [
    "start_list = [5, 3, 1, 2, 4]\n",
    "square_list = []\n",
    "\n",
    "# Your code here!\n",
    "for x in start_list:\n",
    "    square_list.append(x**2)\n",
    "    square_list.sort()\n",
    "print square_list"
   ]
  },
  {
   "cell_type": "code",
   "execution_count": 1,
   "metadata": {
    "collapsed": false
   },
   "outputs": [
    {
     "name": "stdout",
     "output_type": "stream",
     "text": [
      "{'pocket': ['seashell', 'strange berry', 'lint'], 'backpack': ['bedroll', 'bread loaf', 'xylophone'], 'pouch': ['flint', 'gemstone', 'twine'], 'burlap bag': ['apple', 'small ruby', 'three-toed sloth'], 'gold': 550}\n"
     ]
    }
   ],
   "source": [
    "inventory = {\n",
    "    'gold' : 500,\n",
    "    'pouch' : ['flint', 'twine', 'gemstone'], # Assigned a new list to 'pouch' key\n",
    "    'backpack' : ['xylophone','dagger', 'bedroll','bread loaf']\n",
    "}\n",
    "\n",
    "# Adding a key 'burlap bag' and assigning a list to it\n",
    "inventory['burlap bag'] = ['apple', 'small ruby', 'three-toed sloth']\n",
    "\n",
    "# Sorting the list found under the key 'pouch'\n",
    "inventory['pouch'].sort() \n",
    "\n",
    "# Your code here\n",
    "inventory['pocket']=['seashell', 'strange berry','lint']\n",
    "inventory['backpack'].sort()\n",
    "inventory['backpack'].remove('dagger')\n",
    "inventory['gold']=550\n",
    "\n",
    "print inventory"
   ]
  },
  {
   "cell_type": "code",
   "execution_count": 9,
   "metadata": {
    "collapsed": false
   },
   "outputs": [
    {
     "name": "stdout",
     "output_type": "stream",
     "text": [
      "A star of a popular children's cartoon show.\n",
      "Goes on the floor.\n",
      "A small amount.\n",
      "The sound a goat makes.\n"
     ]
    }
   ],
   "source": [
    "webster = {\n",
    "\t\"Aardvark\" : \"A star of a popular children's cartoon show.\",\n",
    "    \"Baa\" : \"The sound a goat makes.\",\n",
    "    \"Carpet\": \"Goes on the floor.\",\n",
    "    \"Dab\": \"A small amount.\"\n",
    "}\n",
    "\n",
    "# Add your code below!\n",
    "for key in webster:\n",
    "    print webster[key]"
   ]
  },
  {
   "cell_type": "code",
   "execution_count": 10,
   "metadata": {
    "collapsed": true
   },
   "outputs": [],
   "source": [
    "\n",
    "def fizz_count(dic):\n",
    "    count= 0\n",
    "    for x in dic:\n",
    "        if x == 'fizz':\n",
    "    \n",
    "            count = count+1\n",
    "    return count"
   ]
  },
  {
   "cell_type": "code",
   "execution_count": 11,
   "metadata": {
    "collapsed": false
   },
   "outputs": [
    {
     "name": "stdout",
     "output_type": "stream",
     "text": [
      "Once: 1\n",
      "Twice: 2\n",
      "Once: 2\n",
      "Twice: 4\n"
     ]
    }
   ],
   "source": [
    "once  = {'a': 1, 'b': 2}\n",
    "twice = {'a': 2, 'b': 4}\n",
    "for key in once:\n",
    "    print \"Once: %s\" % once[key]\n",
    "    print \"Twice: %s\" % twice[key]"
   ]
  },
  {
   "cell_type": "code",
   "execution_count": 12,
   "metadata": {
    "collapsed": false
   },
   "outputs": [
    {
     "name": "stdout",
     "output_type": "stream",
     "text": [
      "orange\n",
      "prices: 1.5\n",
      "stock: 32\n",
      "pear\n",
      "prices: 3\n",
      "stock: 15\n",
      "banana\n",
      "prices: 4\n",
      "stock: 6\n",
      "apple\n",
      "prices: 2\n",
      "stock: 0\n"
     ]
    }
   ],
   "source": [
    "prices={\"banana\": 4,\"orange\": 1.5,\n",
    "\"apple\": 2,\n",
    "\n",
    "\"pear\": 3\n",
    "}\n",
    "stock={\"banana\": 6,\"orange\": 32,\n",
    "\"apple\": 0,\n",
    "\n",
    "\"pear\": 15,\n",
    "}\n",
    "for key in prices:\n",
    "    print key\n",
    "    print \"prices: %s\" % prices[key]\n",
    "    print \"stock: %s\" % stock[key]"
   ]
  },
  {
   "cell_type": "code",
   "execution_count": 3,
   "metadata": {
    "collapsed": false
   },
   "outputs": [
    {
     "name": "stdout",
     "output_type": "stream",
     "text": [
      "orange\n",
      "price: 1.5\n",
      "stock: 32\n",
      "pear\n",
      "price: 3\n",
      "stock: 15\n",
      "banana\n",
      "price: 4\n",
      "stock: 6\n",
      "apple\n",
      "price: 2\n",
      "stock: 0\n"
     ]
    }
   ],
   "source": [
    "prices={'banana':4,'apple':2,'orange':1.5,'pear':3}\n",
    "stock={'banana':6,'apple':0,'orange':32,'pear':15}\n",
    "for fruit in prices:\n",
    "    print fruit\n",
    "    print 'price: {}'.format(prices[fruit])\n",
    "    print 'stock: {}'.format(stock[fruit])"
   ]
  },
  {
   "cell_type": "code",
   "execution_count": 3,
   "metadata": {
    "collapsed": false
   },
   "outputs": [
    {
     "name": "stdout",
     "output_type": "stream",
     "text": [
      "orange\n",
      "price: 1.5\n",
      "stock: 32\n",
      "pear\n",
      "price: 3\n",
      "stock: 15\n",
      "banana\n",
      "price: 4\n",
      "stock: 6\n",
      "apple\n",
      "price: 2\n",
      "stock: 0\n",
      "117.0\n"
     ]
    }
   ],
   "source": [
    "prices = {\n",
    "    \"banana\" : 4,\n",
    "    \"apple\"  : 2,\n",
    "    \"orange\" : 1.5,\n",
    "    \"pear\"   : 3,\n",
    "}\n",
    "stock = {\n",
    "    \"banana\" : 6,\n",
    "    \"apple\"  : 0,\n",
    "    \"orange\" : 32,\n",
    "    \"pear\"   : 15,\n",
    "}\n",
    "\n",
    "for key in prices:\n",
    "    print key\n",
    "    print \"price: %s\" % prices[key]\n",
    "    print \"stock: %s\" % stock[key]\n",
    "total = 0 \n",
    "for key in prices:\n",
    "    total = prices[key]*stock[key] + total\n",
    "print total\n",
    "def compute_bill (food):\n",
    "    total = 0\n",
    "    for a in food:\n",
    "        total += prices.get(a, 0)\n",
    "    return total\n",
    "def compute_bill(food):\n",
    "    total = 0\n",
    "    for each in food:\n",
    "        if stock[each] > 0:\n",
    "            total += prices[each]\n",
    "            stock[each] -= 1\n",
    "    return total"
   ]
  },
  {
   "cell_type": "code",
   "execution_count": 11,
   "metadata": {
    "collapsed": false,
    "scrolled": true
   },
   "outputs": [
    {
     "name": "stdout",
     "output_type": "stream",
     "text": [
      "[88.0, 40.0, 94.0]\n",
      "[75.0, 90.0]\n",
      "Lloyd\n",
      "[90.0, 97.0, 75.0, 92.0]\n",
      "[82.0, 83.0, 91.0]\n",
      "[89.0, 97.0]\n",
      "Alice\n",
      "[100.0, 92.0, 98.0, 100.0]\n",
      "[0.0, 75.0, 78.0]\n",
      "[100.0, 100.0]\n",
      "Tyler\n",
      "[0.0, 87.0, 75.0, 22.0]\n",
      "83.8666666667\n",
      "B\n"
     ]
    }
   ],
   "source": [
    "lloyd = {\n",
    "    \"name\": \"Lloyd\",\n",
    "    \"homework\": [90.0, 97.0, 75.0, 92.0],\n",
    "    \"quizzes\": [ 88.0, 40.0, 94.0],\n",
    "    \"tests\": [75.0, 90.0]\n",
    "}\n",
    "alice = {\n",
    "    \"name\": \"Alice\",\n",
    "    \"homework\": [100.0, 92.0, 98.0, 100.0],\n",
    "    \"quizzes\": [82.0, 83.0, 91.0],\n",
    "    \"tests\": [89.0, 97.0]\n",
    "}\n",
    "tyler = {\n",
    "    \"name\": \"Tyler\",\n",
    "    \"homework\": [0.0, 87.0, 75.0, 22.0],\n",
    "    \"quizzes\": [0.0, 75.0, 78.0],\n",
    "    \"tests\": [100.0, 100.0]\n",
    "}\n",
    "students = [lloyd,alice,tyler]\n",
    "for student in students:\n",
    "    for x in student:\n",
    "        print student[x]\n",
    "def average(numbers):\n",
    "    total = 0\n",
    "    for number in numbers:\n",
    "        total += number\n",
    "        average = float(total)/len(numbers)\n",
    "    return average\n",
    "def get_average(student):\n",
    "    homework = float(0.1 * average(student[\"homework\"]))\n",
    "    quizzes = float(0.3 * average(student[\"quizzes\"]))\n",
    "    tests = float(0.6 * average(student[\"tests\"]))\n",
    "    avg = homework + quizzes + tests \n",
    "    return avg\n",
    "def get_letter_grade(score):\n",
    "    if 90 <= score:\n",
    "        return \"A\"\n",
    "    elif 80 <= score:\n",
    "        return \"B\"\n",
    "    elif 70 <= score:\n",
    "        return \"C\"\n",
    "    elif 60 <= score:\n",
    "        return \"D\"\n",
    "    else:\n",
    "        return \"F\"\n",
    "def get_class_average(students):\n",
    "    results = []\n",
    "    for student in students:\n",
    "        results.append(get_average(student))\n",
    "    return average (results)\n",
    "\n",
    "print get_class_average(students)\n",
    "print get_letter_grade(get_class_average(students))\n",
    "                "
   ]
  },
  {
   "cell_type": "code",
   "execution_count": 9,
   "metadata": {
    "collapsed": false
   },
   "outputs": [
    {
     "name": "stdout",
     "output_type": "stream",
     "text": [
      "['li', 'we', 'xc', 'fs']\n",
      "['li']\n",
      "['li', 'we']\n",
      "['li', 'we', 'xc']\n",
      "['li', 'we', 'xc', 'fs']\n"
     ]
    }
   ],
   "source": [
    "l=['li','we','xc','fs']\n",
    "t = []\n",
    "t = l\n",
    "print t\n",
    "n = 4\n",
    "r = []\n",
    "for i in range(n):\n",
    "    r.append(l[i])\n",
    "    print r\n",
    "    "
   ]
  },
  {
   "cell_type": "code",
   "execution_count": 9,
   "metadata": {
    "collapsed": false
   },
   "outputs": [
    {
     "data": {
      "text/plain": [
       "False"
      ]
     },
     "execution_count": 9,
     "metadata": {},
     "output_type": "execute_result"
    }
   ],
   "source": [
    "99<=90\n",
    "                "
   ]
  },
  {
   "cell_type": "code",
   "execution_count": 2,
   "metadata": {
    "collapsed": false
   },
   "outputs": [
    {
     "name": "stdout",
     "output_type": "stream",
     "text": [
      "[2, 3, 4, 9]\n"
     ]
    }
   ],
   "source": [
    "n = [2,3,4]\n",
    "n.append(9)\n",
    "print n"
   ]
  },
  {
   "cell_type": "code",
   "execution_count": 5,
   "metadata": {
    "collapsed": false
   },
   "outputs": [
    {
     "name": "stdout",
     "output_type": "stream",
     "text": [
      "15\n"
     ]
    }
   ],
   "source": [
    "n = [3, 5, 7]\n",
    "s = 0\n",
    "def sum(n):\n",
    "    for i in n:\n",
    "        s = s+i\n",
    "        return s\n",
    "def total(numbers):\n",
    "    result = 0\n",
    "    for  x in range(0,len(numbers)):\n",
    "        result += numbers[x]\n",
    "    return result\n",
    "print total(n)\n"
   ]
  },
  {
   "cell_type": "code",
   "execution_count": 8,
   "metadata": {
    "collapsed": false
   },
   "outputs": [
    {
     "name": "stdout",
     "output_type": "stream",
     "text": [
      "[3, 5, 7, 9]\n"
     ]
    }
   ],
   "source": [
    "n = [3, 5, 7]\n",
    "# Add your function here\n",
    "def list_extender(lst):\n",
    "    lst.append(9)\n",
    "    return lst\n",
    "print list_extender(n)"
   ]
  },
  {
   "cell_type": "code",
   "execution_count": 9,
   "metadata": {
    "collapsed": false
   },
   "outputs": [
    {
     "name": "stdout",
     "output_type": "stream",
     "text": [
      "MichaelLieberman\n"
     ]
    }
   ],
   "source": [
    "n = [\"Michael\", \"Lieberman\"]\n",
    "# Add your function here\n",
    "def join_strings(words):\n",
    "    result= ''\n",
    "    for word in words:\n",
    "        result+=word\n",
    "    return result\n",
    "    \n",
    "\n",
    "\n",
    "print join_strings(n)"
   ]
  },
  {
   "cell_type": "code",
   "execution_count": 10,
   "metadata": {
    "collapsed": false
   },
   "outputs": [
    {
     "name": "stdout",
     "output_type": "stream",
     "text": [
      "[1, 2, 3, 4, 5, 6, 7, 8, 9]\n"
     ]
    }
   ],
   "source": [
    "n = [[1, 2, 3], [4, 5, 6, 7, 8, 9]]\n",
    "# Add your function here\n",
    "def flatten(lists):\n",
    "    results = []\n",
    "    for numbers in lists:\n",
    "        for number in numbers:\n",
    "            results.append(number)\n",
    "    return results\n",
    "    \n",
    "\n",
    "\n",
    "\n",
    "print flatten(n)"
   ]
  },
  {
   "cell_type": "code",
   "execution_count": 2,
   "metadata": {
    "collapsed": false
   },
   "outputs": [
    {
     "ename": "IndentationError",
     "evalue": "unexpected indent (<ipython-input-2-c1f99d552a0c>, line 35)",
     "output_type": "error",
     "traceback": [
      "\u001b[0;36m  File \u001b[0;32m\"<ipython-input-2-c1f99d552a0c>\"\u001b[0;36m, line \u001b[0;32m35\u001b[0m\n\u001b[0;31m    if guess_row not in range(5) or guess_col not in range(5):\u001b[0m\n\u001b[0m    ^\u001b[0m\n\u001b[0;31mIndentationError\u001b[0m\u001b[0;31m:\u001b[0m unexpected indent\n"
     ]
    }
   ],
   "source": [
    "from random import randint\n",
    "\n",
    "board = []\n",
    "\n",
    "for x in range(0, 5):\n",
    "    board.append([\"O\"] * 5)\n",
    "\n",
    "def print_board(board):\n",
    "    for row in board:\n",
    "        print \" \".join(row)\n",
    "\n",
    "print_board(board)\n",
    "\n",
    "def random_row(board):\n",
    "    return randint(0, len(board) - 1)\n",
    "\n",
    "def random_col(board):\n",
    "    return randint(0, len(board[0]) - 1)\n",
    "\n",
    "ship_row = random_row(board)\n",
    "ship_col = random_col(board)\n",
    "guess_row = int(raw_input(\"Guess Row:\"))\n",
    "guess_col = int(raw_input(\"Guess Col:\"))\n",
    "\n",
    "print ship_row\n",
    "print ship_col\n",
    "\n",
    "# Write your code below!\n",
    "if guess_row == ship_row and guess_col == ship_col:\n",
    "    print \"Congratulations! You sank my battleship!\"\n",
    "else:\n",
    "    print \"You missed my battleship!\"\n",
    "board[guess_row][guess_col] = \"X\" \n",
    "print_board(board)\n",
    "    if guess_row not in range(5) or guess_col not in range(5):\n",
    "        print \"Oops, that's not even in the ocean.\"\n",
    "    else:\n",
    "        print \"Outside the range\"\n",
    "    elif board[guess_row][guess_col] == \"X\":\n",
    "            print \"You guessed that one already.\"\n",
    "\n"
   ]
  },
  {
   "cell_type": "code",
   "execution_count": null,
   "metadata": {
    "collapsed": false
   },
   "outputs": [],
   "source": [
    "\n",
    "\n"
   ]
  },
  {
   "cell_type": "code",
   "execution_count": null,
   "metadata": {
    "collapsed": false
   },
   "outputs": [],
   "source": [
    "from random import randint\n",
    "\n",
    "board = []\n",
    "\n",
    "for x in range(5):\n",
    "    board.append([\"O\"] * 5)\n",
    "\n",
    "def print_board(board):\n",
    "    for row in board:\n",
    "        print \" \".join(row)\n",
    "\n",
    "print \"Let's play Battleship!\"\n",
    "print_board(board)\n",
    "\n",
    "def random_row(board):\n",
    "    return randint(0, len(board) - 1)\n",
    "\n",
    "def random_col(board):\n",
    "    return randint(0, len(board[0]) - 1)\n",
    "\n",
    "ship_row = random_row(board)\n",
    "ship_col = random_col(board)\n",
    "\n",
    "for turn in range(4):  \n",
    "# Everything from here on should go in your for loop!\n",
    "# Be sure to indent four spaces!\n",
    "    guess_row = int(raw_input(\"Guess Row:\"))\n",
    "    guess_col = int(raw_input(\"Guess Col:\"))\n",
    "\n",
    "    if guess_row == ship_row and guess_col == ship_col:\n",
    "        print \"Congratulations! You sunk my battleship!\"\n",
    "    else:\n",
    "        if (guess_row < 0 or guess_row > 4) or (guess_col < 0 or guess_col > 4):\n",
    "            print \"Oops, that's not even in the ocean.\"\n",
    "        elif(board[guess_row][guess_col] == \"X\"):\n",
    "            print \"You guessed that one already.\"\n",
    "        else:\n",
    "            print \"You missed my battleship!\"\n",
    "            board[guess_row][guess_col] = \"X\"\n",
    "    # Print (turn + 1) here!print 'Turn' , turn +1\n",
    "    print 'Turn' , turn += 1\n",
    "    print_board(board)\n",
    "    if (turn == 3):\n",
    "        print 'Game Over'\n",
    "        print ship_row\n",
    "        print ship_col\n",
    "\n",
    "\n",
    "\n",
    "          \n"
   ]
  },
  {
   "cell_type": "code",
   "execution_count": null,
   "metadata": {
    "collapsed": false
   },
   "outputs": [],
   "source": [
    "phrase = \"Abirdinthehand...\"\n",
    "\n",
    "# Add your for loop\n",
    "for char in phrase:\n",
    "    if char == 'a' or char == 'A':\n",
    "        char = 'X'\n",
    "        print char,\n",
    "    else:\n",
    "        pass\n",
    "        print char,\n",
    "        \n",
    "\n",
    "\n",
    "\n",
    "\n",
    "#Don't delete this print statement!\n",
    "print\n"
   ]
  },
  {
   "cell_type": "code",
   "execution_count": 2,
   "metadata": {
    "collapsed": false
   },
   "outputs": [
    {
     "ename": "SyntaxError",
     "evalue": "invalid syntax (<ipython-input-2-e502a8672eec>, line 1)",
     "output_type": "error",
     "traceback": [
      "\u001b[0;36m  File \u001b[0;32m\"<ipython-input-2-e502a8672eec>\"\u001b[0;36m, line \u001b[0;32m1\u001b[0m\n\u001b[0;31m    filter(i%2==0,for i in range(10))\u001b[0m\n\u001b[0m                    ^\u001b[0m\n\u001b[0;31mSyntaxError\u001b[0m\u001b[0;31m:\u001b[0m invalid syntax\n"
     ]
    }
   ],
   "source": [
    "filter(i%2==0,for i in range(10))"
   ]
  },
  {
   "cell_type": "code",
   "execution_count": 3,
   "metadata": {
    "collapsed": false
   },
   "outputs": [
    {
     "data": {
      "text/plain": [
       "[0, 2, 4, 6, 8]"
      ]
     },
     "execution_count": 3,
     "metadata": {},
     "output_type": "execute_result"
    }
   ],
   "source": [
    "filter(lambda i : i%2==0,range(10))"
   ]
  },
  {
   "cell_type": "code",
   "execution_count": 9,
   "metadata": {
    "collapsed": false
   },
   "outputs": [
    {
     "data": {
      "text/plain": [
       "[2,\n",
       " 3,\n",
       " 5,\n",
       " 7,\n",
       " 11,\n",
       " 13,\n",
       " 17,\n",
       " 19,\n",
       " 23,\n",
       " 29,\n",
       " 31,\n",
       " 37,\n",
       " 41,\n",
       " 43,\n",
       " 47,\n",
       " 53,\n",
       " 59,\n",
       " 61,\n",
       " 67,\n",
       " 71,\n",
       " 73,\n",
       " 79,\n",
       " 83,\n",
       " 89,\n",
       " 97]"
      ]
     },
     "execution_count": 9,
     "metadata": {},
     "output_type": "execute_result"
    }
   ],
   "source": [
    "def is_prime(x):\n",
    "    if x <=1:\n",
    "        return False\n",
    "    if x == 2:\n",
    "        return True\n",
    "    for i in range(2,x):\n",
    "        if x%i ==0:\n",
    "            return False\n",
    "    else:\n",
    "        return True\n",
    "filter(is_prime,range(100))\n"
   ]
  },
  {
   "cell_type": "code",
   "execution_count": 10,
   "metadata": {
    "collapsed": false
   },
   "outputs": [
    {
     "data": {
      "text/plain": [
       "['Awe', 'Wad', 'Saddw']"
      ]
     },
     "execution_count": 10,
     "metadata": {},
     "output_type": "execute_result"
    }
   ],
   "source": [
    "def  f(x):\n",
    "    return x[0].upper()+x[1:].lower()\n",
    "map(f,['awe','WAD','sadDW'])"
   ]
  },
  {
   "cell_type": "code",
   "execution_count": 13,
   "metadata": {
    "collapsed": false
   },
   "outputs": [
    {
     "ename": "NameError",
     "evalue": "name 'string' is not defined",
     "output_type": "error",
     "traceback": [
      "\u001b[0;31m---------------------------------------------------------------------------\u001b[0m",
      "\u001b[0;31mNameError\u001b[0m                                 Traceback (most recent call last)",
      "\u001b[0;32m<ipython-input-13-8cb1867c2f65>\u001b[0m in \u001b[0;36m<module>\u001b[0;34m()\u001b[0m\n\u001b[0;32m----> 1\u001b[0;31m \u001b[0mkmpathes\u001b[0m \u001b[0;34m=\u001b[0m \u001b[0mfilter\u001b[0m\u001b[0;34m(\u001b[0m\u001b[0;32mlambda\u001b[0m \u001b[0mkmpath\u001b[0m\u001b[0;34m:\u001b[0m \u001b[0mkmpath\u001b[0m\u001b[0;34m,\u001b[0m \u001b[0mmap\u001b[0m\u001b[0;34m(\u001b[0m\u001b[0;32mlambda\u001b[0m \u001b[0mkmpath\u001b[0m\u001b[0;34m:\u001b[0m \u001b[0mstring\u001b[0m\u001b[0;34m.\u001b[0m\u001b[0mstrip\u001b[0m\u001b[0;34m(\u001b[0m\u001b[0mkmpath\u001b[0m\u001b[0;34m)\u001b[0m\u001b[0;34m,\u001b[0m\u001b[0mstring\u001b[0m\u001b[0;34m.\u001b[0m\u001b[0msplit\u001b[0m\u001b[0;34m(\u001b[0m\u001b[0ml\u001b[0m\u001b[0;34m,\u001b[0m \u001b[0;34m':'\u001b[0m\u001b[0;34m)\u001b[0m\u001b[0;34m)\u001b[0m\u001b[0;34m)\u001b[0m\u001b[0;34m\u001b[0m\u001b[0m\n\u001b[0m",
      "\u001b[0;31mNameError\u001b[0m: name 'string' is not defined"
     ]
    }
   ],
   "source": [
    "kmpathes = filter(lambda kmpath: kmpath, map(lambda kmpath: string.strip(kmpath),string.split(l, ':')))    "
   ]
  },
  {
   "cell_type": "code",
   "execution_count": 17,
   "metadata": {
    "collapsed": false
   },
   "outputs": [
    {
     "name": "stdout",
     "output_type": "stream",
     "text": [
      "<function <lambda> at 0x041B3430>\n"
     ]
    }
   ],
   "source": [
    "def build(x, y):\n",
    "    return lambda: x * x + y * y\n",
    "print build(2,3)"
   ]
  },
  {
   "cell_type": "code",
   "execution_count": null,
   "metadata": {
    "collapsed": true
   },
   "outputs": [],
   "source": []
  },
  {
   "cell_type": "code",
   "execution_count": null,
   "metadata": {
    "collapsed": true
   },
   "outputs": [],
   "source": []
  },
  {
   "cell_type": "code",
   "execution_count": null,
   "metadata": {
    "collapsed": true
   },
   "outputs": [],
   "source": []
  },
  {
   "cell_type": "code",
   "execution_count": null,
   "metadata": {
    "collapsed": true
   },
   "outputs": [],
   "source": []
  }
 ],
 "metadata": {
  "kernelspec": {
   "display_name": "Python 2",
   "language": "python",
   "name": "python2"
  },
  "language_info": {
   "codemirror_mode": {
    "name": "ipython",
    "version": 2
   },
   "file_extension": ".py",
   "mimetype": "text/x-python",
   "name": "python",
   "nbconvert_exporter": "python",
   "pygments_lexer": "ipython2",
   "version": "2.7.12"
  }
 },
 "nbformat": 4,
 "nbformat_minor": 1
}
