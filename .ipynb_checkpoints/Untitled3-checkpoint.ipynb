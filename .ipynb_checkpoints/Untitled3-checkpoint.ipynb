{
 "cells": [
  {
   "cell_type": "code",
   "execution_count": 5,
   "metadata": {
    "collapsed": false
   },
   "outputs": [
    {
     "ename": "SyntaxError",
     "evalue": "invalid syntax (<ipython-input-5-067eff9ec283>, line 23)",
     "output_type": "error",
     "traceback": [
      "\u001b[0;36m  File \u001b[0;32m\"<ipython-input-5-067eff9ec283>\"\u001b[0;36m, line \u001b[0;32m23\u001b[0m\n\u001b[0;31m    except Exception:\u001b[0m\n\u001b[0m         ^\u001b[0m\n\u001b[0;31mSyntaxError\u001b[0m\u001b[0;31m:\u001b[0m invalid syntax\n"
     ]
    }
   ],
   "source": [
    "#Import urlencode() in this package to encode post data \n",
    "import urllib \n",
    "#Import http relevant functions \n",
    "from urllib2 import Request, urlopen, URLError, HTTPError \n",
    "username = 'your_username' \n",
    "password = 'your_password' \n",
    "data ={'action':'login','username':username,'password':password,'ac_id':'3','type':'1','wbaredirect':'http://net.zju.edu.cn', 'mac':'undefined','user_ip':'','is_ldap':'1','local_auth':'1'} \n",
    "data = urllib.urlencode(data) \n",
    "try: \n",
    "    req = Request(\"https://net.zju.edu.cn/cgi-bin/srun_portal\") \n",
    "    response = urlopen(req,data, timeout = 10)\n",
    "    content = response.read() \n",
    "    response.close() \n",
    "except URLError, e:\n",
    "    if hasattr(e, 'reason'):\n",
    "        info = '[ERROR] Failed to reach the server.\\nReason: ' + str(e.reason) \n",
    "    elif hasattr(e, 'code'):\n",
    "        info = '[ERROR] The server couldn\\'t fullfill the request.\\nError code: ' +str(e.code) \n",
    "    else:\n",
    "        info = '[ERROR] Unknown URLError'\n",
    "        cPrint(info, COLOR.RED) \n",
    "        return False \n",
    "except Exception:\n",
    "    import traceback \n",
    "    print \"Generic exception: \" + traceback.format_exc()\n",
    "    return False"
   ]
  },
  {
   "cell_type": "code",
   "execution_count": null,
   "metadata": {
    "collapsed": true
   },
   "outputs": [],
   "source": []
  },
  {
   "cell_type": "code",
   "execution_count": null,
   "metadata": {
    "collapsed": true
   },
   "outputs": [],
   "source": []
  },
  {
   "cell_type": "code",
   "execution_count": null,
   "metadata": {
    "collapsed": true
   },
   "outputs": [],
   "source": []
  },
  {
   "cell_type": "code",
   "execution_count": null,
   "metadata": {
    "collapsed": true
   },
   "outputs": [],
   "source": []
  },
  {
   "cell_type": "code",
   "execution_count": null,
   "metadata": {
    "collapsed": true
   },
   "outputs": [],
   "source": []
  },
  {
   "cell_type": "code",
   "execution_count": null,
   "metadata": {
    "collapsed": true
   },
   "outputs": [],
   "source": []
  },
  {
   "cell_type": "code",
   "execution_count": null,
   "metadata": {
    "collapsed": true
   },
   "outputs": [],
   "source": []
  },
  {
   "cell_type": "code",
   "execution_count": null,
   "metadata": {
    "collapsed": true
   },
   "outputs": [],
   "source": []
  },
  {
   "cell_type": "code",
   "execution_count": null,
   "metadata": {
    "collapsed": true
   },
   "outputs": [],
   "source": []
  }
 ],
 "metadata": {
  "kernelspec": {
   "display_name": "Python 2",
   "language": "python",
   "name": "python2"
  },
  "language_info": {
   "codemirror_mode": {
    "name": "ipython",
    "version": 2
   },
   "file_extension": ".py",
   "mimetype": "text/x-python",
   "name": "python",
   "nbconvert_exporter": "python",
   "pygments_lexer": "ipython2",
   "version": "2.7.12"
  }
 },
 "nbformat": 4,
 "nbformat_minor": 1
}
