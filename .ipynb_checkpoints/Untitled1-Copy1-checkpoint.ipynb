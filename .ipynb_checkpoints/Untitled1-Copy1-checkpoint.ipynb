{
 "cells": [
  {
   "cell_type": "code",
   "execution_count": 7,
   "metadata": {
    "collapsed": false
   },
   "outputs": [
    {
     "name": "stdout",
     "output_type": "stream",
     "text": [
      "Lucky Numbers! 3 numbers will be generated.\n",
      "If one of them is a '5', you lose!\n",
      "1\n",
      "4\n",
      "2\n",
      "You win!\n"
     ]
    }
   ],
   "source": [
    "import random\n",
    "\n",
    "print \"Lucky Numbers! 3 numbers will be generated.\"\n",
    "print \"If one of them is a '5', you lose!\"\n",
    "\n",
    "count = 0\n",
    "while count < 3:\n",
    "    num = random.randint(1, 6)\n",
    "    print num\n",
    "    if num == 5:\n",
    "        print \"Sorry, you lose!\"\n",
    "        break\n",
    "    count += 1\n",
    "else:\n",
    "    print \"You win!\""
   ]
  },
  {
   "cell_type": "code",
   "execution_count": null,
   "metadata": {
    "collapsed": false
   },
   "outputs": [],
   "source": [
    "from random import randint\n",
    "\n",
    "# Generates a number from 1 through 10 inclusive\n",
    "random_number = randint(1, 10)\n",
    "print random_number\n",
    "guesses_left = 3\n",
    "# Start your game!\n",
    "while guesses_left > 0:\n",
    "    guess = int(raw_input('enter a number:'))\n",
    "    if random_number == guess:\n",
    "        print 'You win!'\n",
    "        break\n",
    "    else:\n",
    "        print 'You lose'\n",
    "    guess_left -= 1"
   ]
  },
  {
   "cell_type": "code",
   "execution_count": null,
   "metadata": {
    "collapsed": true
   },
   "outputs": [],
   "source": []
  },
  {
   "cell_type": "code",
   "execution_count": null,
   "metadata": {
    "collapsed": true
   },
   "outputs": [],
   "source": []
  },
  {
   "cell_type": "code",
   "execution_count": null,
   "metadata": {
    "collapsed": true
   },
   "outputs": [],
   "source": []
  },
  {
   "cell_type": "code",
   "execution_count": null,
   "metadata": {
    "collapsed": true
   },
   "outputs": [],
   "source": []
  }
 ],
 "metadata": {
  "kernelspec": {
   "display_name": "Python 2",
   "language": "python",
   "name": "python2"
  },
  "language_info": {
   "codemirror_mode": {
    "name": "ipython",
    "version": 2
   },
   "file_extension": ".py",
   "mimetype": "text/x-python",
   "name": "python",
   "nbconvert_exporter": "python",
   "pygments_lexer": "ipython2",
   "version": "2.7.12"
  }
 },
 "nbformat": 4,
 "nbformat_minor": 1
}
