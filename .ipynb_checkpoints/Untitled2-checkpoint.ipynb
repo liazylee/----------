{
 "cells": [
  {
   "cell_type": "code",
   "execution_count": 4,
   "metadata": {
    "collapsed": false
   },
   "outputs": [
    {
     "name": "stdout",
     "output_type": "stream",
     "text": [
      "X b i r d i n t h e h X n d . . .\n"
     ]
    }
   ],
   "source": [
    "phrase = \"Abirdinthehand...\"\n",
    "\n",
    "# Add your for loop\n",
    "for char in phrase:\n",
    "    if char == 'a' or char == 'A':\n",
    "        char = 'X'\n",
    "        print char,\n",
    "    else:\n",
    "        \n",
    "        print char,\n",
    "        \n",
    "\n",
    "\n",
    "\n",
    "\n"
   ]
  },
  {
   "cell_type": "code",
   "execution_count": 1,
   "metadata": {
    "collapsed": false
   },
   "outputs": [],
   "source": [
    "def is_int(x):\n",
    "    if x % 1 == 0:\n",
    "        return True\n",
    "    else:\n",
    "        return False\n"
   ]
  },
  {
   "cell_type": "code",
   "execution_count": null,
   "metadata": {
    "collapsed": true
   },
   "outputs": [],
   "source": [
    "def digit_sum(n):\n",
    "    sum = 0\n",
    "    t = 0\n",
    "    while n != 0:\n",
    "        t = n % 10\n",
    "        sum += t\n",
    "        n = n/10\n",
    "    return sum"
   ]
  },
  {
   "cell_type": "code",
   "execution_count": 15,
   "metadata": {
    "collapsed": false
   },
   "outputs": [
    {
     "name": "stdout",
     "output_type": "stream",
     "text": [
      "12\n"
     ]
    }
   ],
   "source": [
    "def factorial(x):\n",
    "    sum = 0\n",
    "    if x == 1:\n",
    "        return 1\n",
    "    if x>1:\n",
    "        sum = 0\n",
    "        for i in range(1,x+1):\n",
    "            sum = x *(x-1)\n",
    "        return sum\n",
    "        \n",
    "print factorial(4)"
   ]
  },
  {
   "cell_type": "code",
   "execution_count": null,
   "metadata": {
    "collapsed": false
   },
   "outputs": [],
   "source": [
    "def factorial(n):\n",
    "return n>1 and n*factorial(n-1) or 1 \n",
    "print factorial(4)\n",
    "print factorial(1)"
   ]
  },
  {
   "cell_type": "code",
   "execution_count": 7,
   "metadata": {
    "collapsed": false
   },
   "outputs": [
    {
     "name": "stdout",
     "output_type": "stream",
     "text": [
      "False\n"
     ]
    }
   ],
   "source": [
    "def is_prime(x):\n",
    "    if x<=1:\n",
    "        return False\n",
    "    elif x ==2:\n",
    "        return True\n",
    "    for i in range(2,x):\n",
    "        if x % i == 0:\n",
    "            return False\n",
    "    else:\n",
    "        return True\n",
    "print is_prime()\n",
    "def is_prime(n):\n",
    "    if n <= 1:\n",
    "        return False\n",
    "    for i in range(2,int(n**0.5)+1):\n",
    "        if n%i==0:\n",
    "            return False\n",
    "\n",
    "    return True"
   ]
  },
  {
   "cell_type": "code",
   "execution_count": 4,
   "metadata": {
    "collapsed": false
   },
   "outputs": [
    {
     "name": "stdout",
     "output_type": "stream",
     "text": [
      "olleh\n"
     ]
    }
   ],
   "source": [
    "def reverse(text):\n",
    "\n",
    "    lst = []\n",
    "    count = 1\n",
    "\n",
    "    for i in range(0,len(text)):\n",
    "\n",
    "        lst.append(text[len(text)-count])\n",
    "        count += 1\n",
    "\n",
    "    lst = ''.join(lst)\n",
    "    return lst\n",
    "\n",
    "print reverse('hello')"
   ]
  },
  {
   "cell_type": "code",
   "execution_count": 4,
   "metadata": {
    "collapsed": false
   },
   "outputs": [
    {
     "name": "stdout",
     "output_type": "stream",
     "text": [
      "12\n"
     ]
    }
   ],
   "source": [
    "score = {\"a\": 1, \"c\": 3, \"b\": 3, \"e\": 1, \"d\": 2, \"g\": 2, \n",
    "         \"f\": 4, \"i\": 1, \"h\": 4, \"k\": 5, \"j\": 8, \"m\": 3, \n",
    "         \"l\": 1, \"o\": 1, \"n\": 1, \"q\": 10, \"p\": 3, \"s\": 1, \n",
    "         \"r\": 1, \"u\": 1, \"t\": 1, \"w\": 4, \"v\": 4, \"y\": 4, \n",
    "         \"x\": 8, \"z\": 10}\n",
    "def scrabble_score(word):\n",
    "    sum = 0\n",
    "    for  i in word:\n",
    "        sum = sum + score[i]\n",
    "    return sum\n",
    "print scrabble_score('sadawda')"
   ]
  },
  {
   "cell_type": "code",
   "execution_count": 7,
   "metadata": {
    "collapsed": false
   },
   "outputs": [
    {
     "name": "stdout",
     "output_type": "stream",
     "text": [
      "12\n",
      "None\n"
     ]
    }
   ],
   "source": [
    "score = {\"a\": 1, \"c\": 3, \"b\": 3, \"e\": 1, \"d\": 2, \"g\": 2, \n",
    "         \"f\": 4, \"i\": 1, \"h\": 4, \"k\": 5, \"j\": 8, \"m\": 3, \n",
    "         \"l\": 1, \"o\": 1, \"n\": 1, \"q\": 10, \"p\": 3, \"s\": 1, \n",
    "         \"r\": 1, \"u\": 1, \"t\": 1, \"w\": 4, \"v\": 4, \"y\": 4, \n",
    "         \"x\": 8, \"z\": 10}\n",
    "def scrabble_score(word):\n",
    "    print sum(score[s] for s in word.lower())\n"
   ]
  },
  {
   "cell_type": "code",
   "execution_count": 8,
   "metadata": {
    "collapsed": false
   },
   "outputs": [
    {
     "name": "stdout",
     "output_type": "stream",
     "text": [
      "4\n"
     ]
    }
   ],
   "source": [
    "def count(sequence,item):\n",
    "    sum = 0\n",
    "    for i in sequence:\n",
    "        if i == item:\n",
    "            sum = sum + 1 \n",
    "    print int(sum)\n",
    "count([2,4,4,5,3,4,5,4,],4)"
   ]
  },
  {
   "cell_type": "code",
   "execution_count": 9,
   "metadata": {
    "collapsed": false
   },
   "outputs": [],
   "source": [
    "def remove_duplicates(numbers):\n",
    "    d={}\n",
    "    l=[]\n",
    "    for p1 in numbers:\n",
    "        d[p1]=1\n",
    "    for p2 in d:\n",
    "        l.append(p2)\n",
    "    return l\n",
    "        "
   ]
  },
  {
   "cell_type": "code",
   "execution_count": 1,
   "metadata": {
    "collapsed": false
   },
   "outputs": [
    {
     "name": "stdout",
     "output_type": "stream",
     "text": [
      "[2, 3, 4, 5, 6, 7, 8]\n"
     ]
    }
   ],
   "source": [
    "s1= [2,3,4,5,6,]\n",
    "s2=[2,3,4,5,7,8,]\n",
    "for i in s2:\n",
    "    if i not in s1:\n",
    "        s1.append(i)\n",
    "print s1\n",
    "    "
   ]
  },
  {
   "cell_type": "code",
   "execution_count": 6,
   "metadata": {
    "collapsed": false
   },
   "outputs": [
    {
     "ename": "SyntaxError",
     "evalue": "invalid syntax (<ipython-input-6-d5e597d6af3a>, line 1)",
     "output_type": "error",
     "traceback": [
      "\u001b[0;36m  File \u001b[0;32m\"<ipython-input-6-d5e597d6af3a>\"\u001b[0;36m, line \u001b[0;32m1\u001b[0m\n\u001b[0;31m    (/在gcc-4.7.2下编译通过。)\u001b[0m\n\u001b[0m     ^\u001b[0m\n\u001b[0;31mSyntaxError\u001b[0m\u001b[0;31m:\u001b[0m invalid syntax\n"
     ]
    }
   ],
   "source": [
    "//在gcc-4.7.2下编译通过。\n",
    "//命令行：g++-Wall-ansi-O2test.cpp-otest\n",
    "#include<iostream>\n",
    "usingnamespacestd;\n",
    "voidinput(int&oper,constboolmeth)\n",
    "{\n",
    "//meth为true则只判断1，为false则判断1或0\n",
    "while(true)\n",
    "{\n",
    "cin>>oper;\n",
    "if(meth&&oper==1)\n",
    "break;\n",
    "elseif(oper==0||oper==1)\n",
    "break;\n",
    "cout<<\"输入错误，请重新输入。\"<<endl;//判断参数\n",
    "cin.sync();//避免极端输入导致死循环\n",
    "cin.clear();\n",
    "}\n",
    "}\n",
    "intmain(void)\n",
    "{\n",
    "cout<<\"1+1=2吗？那要看您怎么教我了，不要惊讶我会学习的\"<<endl;\n",
    "intladd,radd,aprs,rcnt(0),wcnt(0);//定义输入与结果，正确次数与错误次数\n",
    "cout<<\"开始学习……\"<<endl;\n",
    "for(inti(0);i!=10;++i)\n",
    "{\n",
    "cout<<\"参数1（必须是1）：\"<<flush;//提示输入参数\n",
    "input(ladd,true);\n",
    "cout<<\"参数2（必须是1）：\"<<flush;\n",
    "input(radd,true);\n",
    "cout<<\"结果：\"<<(ladd+radd)<<endl;//输出结果\n",
    "cout<<\"您对这满意吗（满意输入1，不满意输入0）：\"<<flush;//评价等级\n",
    "input(aprs,false);\n",
    "if(aprs)//判断用户评价\n",
    "++rcnt;\n",
    "else\n",
    "++wcnt;\n",
    "cout<<\"正确次数：\"<<rcnt<<\"错误次数：\"<<wcnt<<endl;//错误次数\n",
    "}\n",
    "if(rcnt>wcnt)//判断学习结果\n",
    "cout<<\"主人告诉我1+1=2。\"<<endl;\n",
    "else\n",
    "if(rcnt<wcnt)\n",
    "cout<<\"主人告诉我1+1!=2。\"<<endl;\n",
    "else\n",
    "cout<<\"我不明白主人是什么意思。\"<<endl;\n",
    "intterm;//退出部分\n",
    "cout<<\"您对我的表现满意吗？满意请输入1不满意请输入0：\"<<flush;\n",
    "input(term,false);\n",
    "if(term)\n",
    "cout<<\"谢谢我会继续努力学习\"<<endl;\n",
    "else\n",
    "cout<<\"谢谢我会继续努力学习D\"<<endl;\n",
    "//cin>>term;//在Windows上测试时启用\n",
    "return0;\n",
    "}"
   ]
  },
  {
   "cell_type": "code",
   "execution_count": null,
   "metadata": {
    "collapsed": true
   },
   "outputs": [],
   "source": [
    "evens_to_50 = [i for i in range(51) if i % 2 == 0]\n",
    "print evens_to_50"
   ]
  },
  {
   "cell_type": "code",
   "execution_count": 4,
   "metadata": {
    "collapsed": false,
    "scrolled": true
   },
   "outputs": [
    {
     "name": "stdout",
     "output_type": "stream",
     "text": [
      "[1, 3, 5, 7, 9, 11, 13, 15, 17, 19, 21]\n",
      "[9, 10, 11, 12, 13, 14]\n"
     ]
    }
   ],
   "source": [
    "to_21 = range(1,22)\n",
    "odds = to_21[::2]\n",
    "print odds\n",
    "midlle_third = to_21[8:14:1]\n",
    "print midlle_third"
   ]
  },
  {
   "cell_type": "code",
   "execution_count": 4,
   "metadata": {
    "collapsed": false
   },
   "outputs": [
    {
     "name": "stdout",
     "output_type": "stream",
     "text": [
      "[3, 5, 6, 9, 10, 12, 15]\n"
     ]
    }
   ],
   "source": [
    "threes_and_fives = []\n",
    "for i in range(1,16):\n",
    "    if i%3==0 or i%5==0:\n",
    "        threes_and_fives.append(i)\n",
    "print threes_and_fives"
   ]
  },
  {
   "cell_type": "code",
   "execution_count": 11,
   "metadata": {
    "collapsed": false
   },
   "outputs": [
    {
     "data": {
      "text/plain": [
       "'I am another secret message!'"
      ]
     },
     "execution_count": 11,
     "metadata": {},
     "output_type": "execute_result"
    }
   ],
   "source": [
    "garbled = \"IXXX aXXmX aXXXnXoXXXXXtXhXeXXXXrX sXXXXeXcXXXrXeXt mXXeXsXXXsXaXXXXXXgXeX!XX\"\n",
    "message = []\n",
    "filter(lambda i :i!= \"X\",garbled)\n"
   ]
  },
  {
   "cell_type": "code",
   "execution_count": 12,
   "metadata": {
    "collapsed": true
   },
   "outputs": [],
   "source": [
    "one = 0b1\n",
    "two = 0b10\n",
    "three = 0b11\n",
    "four = 0b100"
   ]
  },
  {
   "cell_type": "code",
   "execution_count": 7,
   "metadata": {
    "collapsed": false
   },
   "outputs": [
    {
     "name": "stdout",
     "output_type": "stream",
     "text": [
      "input length:2\n",
      "input num:3\n"
     ]
    },
    {
     "ename": "TypeError",
     "evalue": "'module' object is not callable",
     "output_type": "error",
     "traceback": [
      "\u001b[0;31m---------------------------------------------------------------------------\u001b[0m",
      "\u001b[0;31mTypeError\u001b[0m                                 Traceback (most recent call last)",
      "\u001b[0;32m<ipython-input-7-6da3c63703d0>\u001b[0m in \u001b[0;36m<module>\u001b[0;34m()\u001b[0m\n\u001b[1;32m     13\u001b[0m         \u001b[0;32mprint\u001b[0m \u001b[0mcoupon\u001b[0m\u001b[0;34m\u001b[0m\u001b[0m\n\u001b[1;32m     14\u001b[0m \u001b[0;32mif\u001b[0m \u001b[0m__name__\u001b[0m \u001b[0;34m==\u001b[0m \u001b[0;34m'__main__'\u001b[0m\u001b[0;34m:\u001b[0m\u001b[0;34m\u001b[0m\u001b[0m\n\u001b[0;32m---> 15\u001b[0;31m     \u001b[0mmain\u001b[0m\u001b[0;34m(\u001b[0m\u001b[0;34m)\u001b[0m\u001b[0;34m\u001b[0m\u001b[0m\n\u001b[0m\u001b[1;32m     16\u001b[0m \u001b[0;34m\u001b[0m\u001b[0m\n\u001b[1;32m     17\u001b[0m \u001b[0;34m\u001b[0m\u001b[0m\n",
      "\u001b[0;32m<ipython-input-7-6da3c63703d0>\u001b[0m in \u001b[0;36mmain\u001b[0;34m()\u001b[0m\n\u001b[1;32m     10\u001b[0m     \u001b[0mnum\u001b[0m \u001b[0;34m=\u001b[0m \u001b[0mint\u001b[0m\u001b[0;34m(\u001b[0m\u001b[0mraw_input\u001b[0m\u001b[0;34m(\u001b[0m\u001b[0;34m'input num:'\u001b[0m\u001b[0;34m)\u001b[0m\u001b[0;34m)\u001b[0m\u001b[0;34m\u001b[0m\u001b[0m\n\u001b[1;32m     11\u001b[0m     \u001b[0;32mfor\u001b[0m \u001b[0mi\u001b[0m \u001b[0;32min\u001b[0m \u001b[0mrange\u001b[0m\u001b[0;34m(\u001b[0m\u001b[0;36m0\u001b[0m\u001b[0;34m,\u001b[0m\u001b[0mnum\u001b[0m\u001b[0;34m)\u001b[0m\u001b[0;34m:\u001b[0m\u001b[0;34m\u001b[0m\u001b[0m\n\u001b[0;32m---> 12\u001b[0;31m         \u001b[0mcoupon\u001b[0m \u001b[0;34m=\u001b[0m \u001b[0mget_coupon\u001b[0m\u001b[0;34m(\u001b[0m\u001b[0mlength\u001b[0m\u001b[0;34m,\u001b[0m\u001b[0mchar\u001b[0m\u001b[0;34m)\u001b[0m\u001b[0;34m\u001b[0m\u001b[0m\n\u001b[0m\u001b[1;32m     13\u001b[0m         \u001b[0;32mprint\u001b[0m \u001b[0mcoupon\u001b[0m\u001b[0;34m\u001b[0m\u001b[0m\n\u001b[1;32m     14\u001b[0m \u001b[0;32mif\u001b[0m \u001b[0m__name__\u001b[0m \u001b[0;34m==\u001b[0m \u001b[0;34m'__main__'\u001b[0m\u001b[0;34m:\u001b[0m\u001b[0;34m\u001b[0m\u001b[0m\n",
      "\u001b[0;32m<ipython-input-7-6da3c63703d0>\u001b[0m in \u001b[0;36mget_coupon\u001b[0;34m(length, char)\u001b[0m\n\u001b[1;32m      4\u001b[0m     \u001b[0mcoupon\u001b[0m \u001b[0;34m=\u001b[0m\u001b[0;34m''\u001b[0m\u001b[0;34m\u001b[0m\u001b[0m\n\u001b[1;32m      5\u001b[0m     \u001b[0;32mfor\u001b[0m \u001b[0mi\u001b[0m \u001b[0;32min\u001b[0m \u001b[0mrange\u001b[0m\u001b[0;34m(\u001b[0m\u001b[0;36m0\u001b[0m\u001b[0;34m,\u001b[0m\u001b[0mlength\u001b[0m\u001b[0;34m)\u001b[0m\u001b[0;34m:\u001b[0m\u001b[0;34m\u001b[0m\u001b[0m\n\u001b[0;32m----> 6\u001b[0;31m         \u001b[0mcoupon\u001b[0m \u001b[0;34m=\u001b[0m \u001b[0mcoupon\u001b[0m\u001b[0;34m+\u001b[0m\u001b[0mrandom\u001b[0m\u001b[0;34m(\u001b[0m\u001b[0mchar\u001b[0m\u001b[0;34m)\u001b[0m\u001b[0;34m\u001b[0m\u001b[0m\n\u001b[0m\u001b[1;32m      7\u001b[0m     \u001b[0;32mreturn\u001b[0m \u001b[0mcoupon\u001b[0m\u001b[0;34m\u001b[0m\u001b[0m\n\u001b[1;32m      8\u001b[0m \u001b[0;32mdef\u001b[0m \u001b[0mmain\u001b[0m\u001b[0;34m(\u001b[0m\u001b[0;34m)\u001b[0m\u001b[0;34m:\u001b[0m\u001b[0;34m\u001b[0m\u001b[0m\n",
      "\u001b[0;31mTypeError\u001b[0m: 'module' object is not callable"
     ]
    }
   ],
   "source": [
    "import random\n",
    "char = \"1234567890poiuytrewqasdfghjklmnbvcxzQWERTYUIOPLKJHGFDSAZXCVBNM\"\n",
    "def get_coupon(length, char):\n",
    "    coupon =''\n",
    "    for i in range(0,length):\n",
    "        coupon = coupon+random(char)\n",
    "    return coupon\n",
    "def main():\n",
    "    length = int(raw_input('input length:'))\n",
    "    num = int(raw_input('input num:'))\n",
    "    for i in range(0,num):\n",
    "        coupon = get_coupon(length,char)\n",
    "        print coupon\n",
    "if __name__ == '__main__':\n",
    "    main() \n",
    "\n",
    "    \n",
    "        \n",
    "              "
   ]
  },
  {
   "cell_type": "code",
   "execution_count": null,
   "metadata": {
    "collapsed": true
   },
   "outputs": [],
   "source": []
  },
  {
   "cell_type": "code",
   "execution_count": null,
   "metadata": {
    "collapsed": true
   },
   "outputs": [],
   "source": []
  },
  {
   "cell_type": "code",
   "execution_count": null,
   "metadata": {
    "collapsed": true
   },
   "outputs": [],
   "source": []
  },
  {
   "cell_type": "code",
   "execution_count": null,
   "metadata": {
    "collapsed": true
   },
   "outputs": [],
   "source": []
  },
  {
   "cell_type": "code",
   "execution_count": null,
   "metadata": {
    "collapsed": true
   },
   "outputs": [],
   "source": []
  }
 ],
 "metadata": {
  "kernelspec": {
   "display_name": "Python 2",
   "language": "python",
   "name": "python2"
  },
  "language_info": {
   "codemirror_mode": {
    "name": "ipython",
    "version": 2
   },
   "file_extension": ".py",
   "mimetype": "text/x-python",
   "name": "python",
   "nbconvert_exporter": "python",
   "pygments_lexer": "ipython2",
   "version": "2.7.12"
  }
 },
 "nbformat": 4,
 "nbformat_minor": 1
}
