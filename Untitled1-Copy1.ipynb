{
 "cells": [
  {
   "cell_type": "code",
   "execution_count": 2,
   "metadata": {
    "collapsed": false
   },
   "outputs": [
    {
     "name": "stdout",
     "output_type": "stream",
     "text": [
      "Lucky Numbers! 3 numbers will be generated.\n",
      "If one of them is a '5', you lose!\n",
      "4\n",
      "5\n",
      "Sorry, you lose!\n"
     ]
    }
   ],
   "source": [
    "import random\n",
    "\n",
    "print \"Lucky Numbers! 3 numbers will be generated.\"\n",
    "print \"If one of them is a '5', you lose!\"\n",
    "\n",
    "count = 0\n",
    "while count < 3:\n",
    "    num = random.randint(1, 6)\n",
    "    print num\n",
    "    if num == 5:\n",
    "        print \"Sorry, you lose!\"\n",
    "        break\n",
    "    count += 1\n",
    "else:\n",
    "    print \"You win!\""
   ]
  },
  {
   "cell_type": "code",
   "execution_count": 5,
   "metadata": {
    "collapsed": false
   },
   "outputs": [
    {
     "name": "stdout",
     "output_type": "stream",
     "text": [
      "look who is the luckier\n",
      "guess:20\n",
      "range from 20to 100\n",
      "guess:80\n",
      "range from 0 to80\n",
      "guess:60\n",
      "range from 60to 100\n",
      "guess:70\n",
      "range from 0 to70\n",
      "guess:65\n",
      "range from 0 to65\n",
      "guess:63\n",
      "range from 0 to63\n",
      "guess:62\n",
      "range from 0 to62\n",
      "guess:61\n",
      "you lose !\n"
     ]
    }
   ],
   "source": [
    "import random\n",
    "print 'look who is the luckier'\n",
    "random_num = random.randint(0,100)\n",
    "guess_nums = input('guess:')\n",
    "while guess_nums != random_num:\n",
    "    \n",
    "    if guess_nums >random_num:\n",
    "        print 'range from 0 to' + str(guess_nums)\n",
    "        \n",
    "    if guess_nums < random_num:\n",
    "        print 'range from '+str(guess_nums) +'to 100'\n",
    "    guess_nums = input('guess:')\n",
    "    \n",
    "else:\n",
    "    print 'you lose !'\n",
    "    \n",
    "        "
   ]
  },
  {
   "cell_type": "raw",
   "metadata": {},
   "source": []
  },
  {
   "cell_type": "code",
   "execution_count": null,
   "metadata": {
    "collapsed": false
   },
   "outputs": [],
   "source": [
    "from random import randint\n",
    "\n",
    "# Generates a number from 1 through 10 inclusive\n",
    "random_number = randint(1, 10)\n",
    "print random_number\n",
    "guesses_left = 3\n",
    "# Start your game!\n",
    "while guesses_left > 0:\n",
    "    guess = int(raw_input('enter a number:'))\n",
    "    if random_number == guess:\n",
    "        print 'You win!'\n",
    "        break\n",
    "    else:\n",
    "        print 'You lose'\n",
    "    guess_left -= 1"
   ]
  },
  {
   "cell_type": "code",
   "execution_count": 14,
   "metadata": {
    "collapsed": false
   },
   "outputs": [
    {
     "ename": "SyntaxError",
     "evalue": "invalid syntax (<ipython-input-14-6c3bfc3ab082>, line 4)",
     "output_type": "error",
     "traceback": [
      "\u001b[0;36m  File \u001b[0;32m\"<ipython-input-14-6c3bfc3ab082>\"\u001b[0;36m, line \u001b[0;32m4\u001b[0m\n\u001b[0;31m    for i in range(0, len(s3)-1)\u001b[0m\n\u001b[0m                                ^\u001b[0m\n\u001b[0;31mSyntaxError\u001b[0m\u001b[0;31m:\u001b[0m invalid syntax\n"
     ]
    }
   ],
   "source": [
    "s1 = [2,3,4,5,6,]\n",
    "s2 = [5,3,4,6,7,8]\n",
    "s3 = s1 + s2\n",
    "for i in range(0, len(s3)-1)\n",
    "    print i\n",
    "    if i == i:\n",
    "        s3.pop(i)\n",
    "    print s3"
   ]
  },
  {
   "cell_type": "code",
   "execution_count": null,
   "metadata": {
    "collapsed": true
   },
   "outputs": [],
   "source": []
  },
  {
   "cell_type": "code",
   "execution_count": null,
   "metadata": {
    "collapsed": true
   },
   "outputs": [],
   "source": []
  },
  {
   "cell_type": "code",
   "execution_count": null,
   "metadata": {
    "collapsed": true
   },
   "outputs": [],
   "source": []
  }
 ],
 "metadata": {
  "kernelspec": {
   "display_name": "Python 2",
   "language": "python",
   "name": "python2"
  },
  "language_info": {
   "codemirror_mode": {
    "name": "ipython",
    "version": 2
   },
   "file_extension": ".py",
   "mimetype": "text/x-python",
   "name": "python",
   "nbconvert_exporter": "python",
   "pygments_lexer": "ipython2",
   "version": "2.7.12"
  }
 },
 "nbformat": 4,
 "nbformat_minor": 1
}
